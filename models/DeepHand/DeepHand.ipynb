{
 "cells": [
  {
   "cell_type": "code",
   "execution_count": 1,
   "metadata": {
    "collapsed": false
   },
   "outputs": [
    {
     "name": "stderr",
     "output_type": "stream",
     "text": [
      "Using TensorFlow backend.\n"
     ]
    }
   ],
   "source": [
    "import keras\n",
    "from keras.models import Sequential, load_model, Model\n",
    "from keras.layers import Layer, Dense, Dropout, Activation, Input, \\\n",
    "Flatten, Conv2D, MaxPooling2D, AveragePooling2D, Lambda, Cropping2D, Concatenate\n",
    "from keras.layers.convolutional import ZeroPadding2D\n",
    "from keras.utils import np_utils\n",
    "from keras.regularizers import l2\n",
    "from keras.layers.normalization import BatchNormalization\n",
    "import tensorflow as tf\n",
    "import cv2\n",
    "import pandas as pd"
   ]
  },
  {
   "cell_type": "code",
   "execution_count": 2,
   "metadata": {
    "collapsed": false
   },
   "outputs": [],
   "source": [
    "im_path = \"/Users/Flukmacdesof/handshape-recognition/data/images/final_phoenix_noPause_noCompound_lefthandtag_noClean/\"\n",
    "lab_path = \"/Users/Flukmacdesof/handshape-recognition/data/3359-ph2014-MS-handshape-annotations.txt\"\n",
    "im_id = \"01August_2011_Monday_heute_default-6/\"\n",
    "num_labels = 61"
   ]
  },
  {
   "cell_type": "code",
   "execution_count": 3,
   "metadata": {
    "collapsed": false
   },
   "outputs": [],
   "source": [
    "class LRN2D(Layer):\n",
    "    \"\"\"\n",
    "    This code is adapted from pylearn2.\n",
    "    License at: https://github.com/lisa-lab/pylearn2/blob/master/LICENSE.txt\n",
    "    \"\"\"\n",
    "\n",
    "    def __init__(self, alpha=1e-4, k=2, beta=0.75, n=5, **kwargs):\n",
    "        if n % 2 == 0:\n",
    "            raise NotImplementedError(\"LRN2D only works with odd n. n provided: \" + str(n))\n",
    "        super(LRN2D, self).__init__(**kwargs)\n",
    "        self.alpha = alpha\n",
    "        self.k = k\n",
    "        self.beta = beta\n",
    "        self.n = n\n",
    "        \n",
    "    def call(self, x, mask=None):\n",
    "        \"\"\"        b, ch, r, c = self.input_shape\n",
    "        half_n = self.n // 2 # half the local region\n",
    "\n",
    "        input_sqr = K.square(x)\n",
    "        extra_channels = K.zeros((b, int(ch) + 2 * half_n, r, c))\n",
    "        input_sqr = K.concatenate([extra_channels[:, :half_n, :, :],\n",
    "                                   input_sqr,\n",
    "                                   extra_channels[:, half_n + int(ch):, :, :]],\n",
    "                                  axis=1)\n",
    "        scale = self.k\n",
    "        norm_alpha = self.alpha / self.n\n",
    "        for i in range(self.n):\n",
    "            scale += norm_alpha * input_sqr[:, i:i + int(ch), :, :]\n",
    "        scale = scale ** self.beta\"\"\"\n",
    "        return tf.nn.lrn(x) #x / scale\n",
    "\n",
    "    def get_config(self):\n",
    "        config = {\"alpha\": self.alpha,\n",
    "                  \"k\": self.k,\n",
    "                  \"beta\": self.beta,\n",
    "                  \"n\": self.n,\n",
    "                 \"input_shape\": self.input_shape}\n",
    "        base_config = super(LRN2D, self).get_config()\n",
    "        return dict(list(base_config.items()) + list(config.items()))"
   ]
  },
  {
   "cell_type": "code",
   "execution_count": 4,
   "metadata": {
    "collapsed": false
   },
   "outputs": [],
   "source": [
    "def deephand(weights_path=None):\n",
    "    #Conv1\n",
    "    inpt = Input(shape=(224,224,3))\n",
    "    x = Conv2D(\n",
    "        64, (7, 7), strides = (2,2), activation='relu', \n",
    "        padding='same',kernel_initializer = \"glorot_normal\" ,\n",
    "        bias_initializer = keras.initializers.Constant(value=0.2),\n",
    "        W_regularizer=l2(0.0002), name='conv1/7x7_s2'\n",
    "                )(inpt)\n",
    "    x = ZeroPadding2D(padding=(1, 1))(x)\n",
    "    #x = PoolHelper()(x)\n",
    "    x = MaxPooling2D(pool_size=(3,3), strides = (2,2), name='pool1/3x3_s2')(x)\n",
    "    x = LRN2D(name='pool1/norm1')(x)\n",
    "    \n",
    "    #Conv2\n",
    "    x = Conv2D(\n",
    "        64, (1, 1), activation='relu',  padding='same',\n",
    "        kernel_initializer = \"glorot_normal\" ,\n",
    "        bias_initializer = keras.initializers.Constant(value=0.2),\n",
    "        W_regularizer=l2(0.0002), name='conv2/3x3_reduce'\n",
    "                )(x)\n",
    "    x = Conv2D(\n",
    "        64, (3, 3), activation='relu',  padding='same',\n",
    "        kernel_initializer = \"glorot_normal\" ,\n",
    "        bias_initializer = keras.initializers.Constant(value=0.2),\n",
    "        W_regularizer=l2(0.0002), name='conv2/3x3'\n",
    "                )(x)\n",
    "    x = LRN2D(name='conv2/norm2')(x)\n",
    "    x = ZeroPadding2D(padding=(1, 1))(x)\n",
    "    #x = PoolHelper()(x)\n",
    "    x = MaxPooling2D(pool_size=(3,3), strides = (2,2), border_mode='valid',\n",
    "                    name='pool2/3x3_s2')(x)\n",
    "    \n",
    "    #Inception 3a\n",
    "    x_5x5 = Conv2D(\n",
    "        16, (1, 1), activation='relu',  padding='same',\n",
    "        kernel_initializer = \"glorot_normal\" ,\n",
    "        bias_initializer = keras.initializers.Constant(value=0.2),\n",
    "        W_regularizer=l2(0.0002), name='inception_3a/5x5_reduce'\n",
    "                )(x)\n",
    "    x_5x5 = Conv2D(\n",
    "        32, (5, 5), activation='relu',  padding='same',\n",
    "        kernel_initializer = \"glorot_normal\" ,\n",
    "        bias_initializer = keras.initializers.Constant(value=0.2),\n",
    "        W_regularizer=l2(0.0002), name='inception_3a/5x5'\n",
    "                )(x_5x5)\n",
    "    x_pool_proj = MaxPooling2D(\n",
    "        pool_size=(3,3), strides = (1,1),\n",
    "        padding=\"same\", name='inception_3a/pool')(x)\n",
    "    x_pool_proj = Conv2D(\n",
    "        32, (1, 1), activation='relu',  padding='same',\n",
    "        kernel_initializer = \"glorot_normal\" ,\n",
    "        bias_initializer = keras.initializers.Constant(value=0.2),\n",
    "        W_regularizer=l2(0.0002), name='inception_3a/pool_proj'\n",
    "                )(x_pool_proj)\n",
    "    x_3x3 = Conv2D(\n",
    "        96, (1, 1), activation='relu',  padding='same',\n",
    "        kernel_initializer = \"glorot_normal\" ,\n",
    "        bias_initializer = keras.initializers.Constant(value=0.2),\n",
    "        W_regularizer=l2(0.0002), name='inception_3a/3x3_reduce'\n",
    "                )(x)\n",
    "    x_3x3 = Conv2D(\n",
    "        128, (3, 3), activation='relu',  padding='same',\n",
    "        kernel_initializer = \"glorot_normal\" ,\n",
    "        bias_initializer = keras.initializers.Constant(value=0.2),\n",
    "        W_regularizer=l2(0.0002), name='inception_3a/3x3'\n",
    "        )(x_3x3)\n",
    "    x_1x1 = Conv2D(\n",
    "        64, (1, 1), activation='relu',  padding='same',\n",
    "        kernel_initializer = \"glorot_normal\" ,\n",
    "        bias_initializer = keras.initializers.Constant(value=0.2),\n",
    "        W_regularizer=l2(0.0002), name='inception_3a/1x1'\n",
    "                )(x)\n",
    "    x = Concatenate(axis=3, name='inception_3a/output')([x_5x5, x_pool_proj, x_3x3, x_1x1])\n",
    "    \n",
    "    #Inception 3b\n",
    "    x_5x5 = Conv2D(\n",
    "        32, (1, 1), activation='relu',  padding='same',\n",
    "        kernel_initializer = \"glorot_normal\" ,\n",
    "        bias_initializer = keras.initializers.Constant(value=0.2),\n",
    "        W_regularizer=l2(0.0002), name='inception_3b/5x5_reduce'\n",
    "                )(x)\n",
    "    x_5x5 = Conv2D(\n",
    "        96, (5, 5), activation='relu',  padding='same',\n",
    "        kernel_initializer = \"glorot_normal\" ,\n",
    "        bias_initializer = keras.initializers.Constant(value=0.2),\n",
    "        W_regularizer=l2(0.0002), name='inception_3b/5x5'\n",
    "                )(x_5x5)\n",
    "    x_pool_proj = MaxPooling2D(\n",
    "        pool_size=(3,3), strides = (1,1),\n",
    "        padding=\"same\", name='inception_3b/pool')(x)\n",
    "    x_pool_proj = Conv2D(\n",
    "        64, (1, 1), activation='relu',  padding='same',\n",
    "        kernel_initializer = \"glorot_normal\" ,\n",
    "        bias_initializer = keras.initializers.Constant(value=0.2),\n",
    "        W_regularizer=l2(0.0002), name='inception_3b/pool_proj'\n",
    "                )(x_pool_proj)\n",
    "    x_3x3 = Conv2D(\n",
    "        128, (1, 1), activation='relu',  padding='same',\n",
    "        kernel_initializer = \"glorot_normal\" ,\n",
    "        bias_initializer = keras.initializers.Constant(value=0.2),\n",
    "        W_regularizer=l2(0.0002), name='inception_3b/3x3_reduce'\n",
    "                )(x)\n",
    "    x_3x3 = Conv2D(\n",
    "        192, (3, 3), activation='relu',  padding='same',\n",
    "        kernel_initializer = \"glorot_normal\" ,\n",
    "        bias_initializer = keras.initializers.Constant(value=0.2),\n",
    "        W_regularizer=l2(0.0002), name='inception_3b/3x3'\n",
    "        )(x_3x3)\n",
    "    x_1x1 = Conv2D(\n",
    "        128, (1, 1), activation='relu',  padding='same',\n",
    "        kernel_initializer = \"glorot_normal\" ,\n",
    "        bias_initializer = keras.initializers.Constant(value=0.2),\n",
    "        W_regularizer=l2(0.0002), name='inception_3b/1x1'\n",
    "                )(x)\n",
    "    x = Concatenate(axis=3, name='inception_3b/output')([x_5x5, x_pool_proj, x_3x3, x_1x1])\n",
    "    x = ZeroPadding2D(padding=(1, 1))(x)\n",
    "    #x = PoolHelper()(x)\n",
    "    x = MaxPooling2D(pool_size=(3,3), strides = (2,2), border_mode='valid', name='pool3/3x3_s2')(x)\n",
    "    \n",
    "    #Inception 4a\n",
    "    x_5x5 = Conv2D(\n",
    "        16, (1, 1), activation='relu',  padding='same',\n",
    "        kernel_initializer = \"glorot_normal\" ,\n",
    "        bias_initializer = keras.initializers.Constant(value=0.2),\n",
    "        W_regularizer=l2(0.0002), name='inception_4a/5x5_reduce'\n",
    "                )(x)\n",
    "    x_5x5 = Conv2D(\n",
    "        48, (5, 5), activation='relu',  padding='same',\n",
    "        kernel_initializer = \"glorot_normal\" ,\n",
    "        bias_initializer = keras.initializers.Constant(value=0.2),\n",
    "        W_regularizer=l2(0.0002), name='inception_4a/5x5'\n",
    "                )(x_5x5)\n",
    "    x_pool_proj = MaxPooling2D(\n",
    "        pool_size=(3,3), strides = (1,1),\n",
    "        padding=\"same\", name='inception_4a/pool')(x)\n",
    "    x_pool_proj = Conv2D(\n",
    "        64, (1, 1), activation='relu',  padding='same',\n",
    "        kernel_initializer = \"glorot_normal\" ,\n",
    "        bias_initializer = keras.initializers.Constant(value=0.2),\n",
    "        W_regularizer=l2(0.0002), name='inception_4a/pool_proj'\n",
    "                )(x_pool_proj)\n",
    "    x_3x3 = Conv2D(\n",
    "        96, (1, 1), activation='relu',  padding='same',\n",
    "        kernel_initializer = \"glorot_normal\" ,\n",
    "        bias_initializer = keras.initializers.Constant(value=0.2),\n",
    "        W_regularizer=l2(0.0002), name='inception_4a/3x3_reduce'\n",
    "                )(x)\n",
    "    x_3x3 = Conv2D(\n",
    "        208, (3, 3), activation='relu',  padding='same',\n",
    "        kernel_initializer = \"glorot_normal\" ,\n",
    "        bias_initializer = keras.initializers.Constant(value=0.2),\n",
    "        W_regularizer=l2(0.0002), name='inception_4a/3x3'\n",
    "        )(x_3x3)\n",
    "    x_1x1 = Conv2D(\n",
    "        192, (1, 1), activation='relu',  padding='same',\n",
    "        kernel_initializer = \"glorot_normal\" ,\n",
    "        bias_initializer = keras.initializers.Constant(value=0.2),\n",
    "        W_regularizer=l2(0.0002), name='inception_4a/1x1'\n",
    "                )(x)\n",
    "    x_out_1 = Concatenate(axis=3, name='inception_4a/output')([x_5x5, x_pool_proj, x_3x3, x_1x1])\n",
    "    \n",
    "    #Inception 4b\n",
    "    x_5x5 = Conv2D(\n",
    "        24, (1, 1), activation='relu',  padding='same',\n",
    "        kernel_initializer = \"glorot_normal\" ,\n",
    "        bias_initializer = keras.initializers.Constant(value=0.2),\n",
    "        W_regularizer=l2(0.0002), name='inception_4b/5x5_reduce'\n",
    "                )(x_out_1)\n",
    "    x_5x5 = Conv2D(\n",
    "        64, (5, 5), activation='relu',  padding='same',\n",
    "        kernel_initializer = \"glorot_normal\" ,\n",
    "        bias_initializer = keras.initializers.Constant(value=0.2),\n",
    "        W_regularizer=l2(0.0002), name='inception_4b/5x5'\n",
    "                )(x_5x5)\n",
    "    x_pool_proj = MaxPooling2D(\n",
    "        pool_size=(3,3), strides = (1,1),\n",
    "        padding=\"same\", name='inception_4b/pool')(x_out_1)\n",
    "    x_pool_proj = Conv2D(\n",
    "        64, (1, 1), activation='relu',  padding='same',\n",
    "        kernel_initializer = \"glorot_normal\" ,\n",
    "        bias_initializer = keras.initializers.Constant(value=0.2),\n",
    "        W_regularizer=l2(0.0002), name='inception_4b/pool_proj'\n",
    "                )(x_pool_proj)\n",
    "    x_3x3 = Conv2D(\n",
    "        112, (1, 1), activation='relu',  padding='same',\n",
    "        kernel_initializer = \"glorot_normal\" ,\n",
    "        bias_initializer = keras.initializers.Constant(value=0.2),\n",
    "        W_regularizer=l2(0.0002), name='inception_4b/3x3_reduce'\n",
    "                )(x_out_1)\n",
    "    x_3x3 = Conv2D(\n",
    "        224, (3, 3), activation='relu',  padding='same',\n",
    "        kernel_initializer = \"glorot_normal\" ,\n",
    "        bias_initializer = keras.initializers.Constant(value=0.2),\n",
    "        W_regularizer=l2(0.0002), name='inception_4b/3x3'\n",
    "        )(x_3x3)\n",
    "    x_1x1 = Conv2D(\n",
    "        160, (1, 1), activation='relu',  padding='same',\n",
    "        kernel_initializer = \"glorot_normal\" ,\n",
    "        bias_initializer = keras.initializers.Constant(value=0.2),\n",
    "        W_regularizer=l2(0.0002), name='inception_4b/1x1'\n",
    "                )(x_out_1)\n",
    "    x = Concatenate(axis=3, name='inception_4b_output')([x_5x5, x_pool_proj, x_3x3, x_1x1])\n",
    "\n",
    "    #Inception 4c\n",
    "    x_5x5 = Conv2D(\n",
    "        24, (1, 1), activation='relu',  padding='same',\n",
    "        kernel_initializer = \"glorot_normal\" ,\n",
    "        bias_initializer = keras.initializers.Constant(value=0.2),\n",
    "        W_regularizer=l2(0.0002), name='inception_4c/5x5_reduce'\n",
    "                )(x)\n",
    "    x_5x5 = Conv2D(\n",
    "        64, (5, 5), activation='relu',  padding='same',\n",
    "        kernel_initializer = \"glorot_normal\" ,\n",
    "        bias_initializer = keras.initializers.Constant(value=0.2),\n",
    "        W_regularizer=l2(0.0002), name='inception_4c/5x5'\n",
    "                )(x_5x5)\n",
    "    x_pool_proj = MaxPooling2D(\n",
    "        pool_size=(3,3), strides = (1,1),\n",
    "        padding=\"same\", name='inception_4c/pool')(x)\n",
    "    x_pool_proj = Conv2D(\n",
    "        64, (1, 1), activation='relu',  padding='same',\n",
    "        kernel_initializer = \"glorot_normal\" ,\n",
    "        bias_initializer = keras.initializers.Constant(value=0.2),\n",
    "        W_regularizer=l2(0.0002), name='inception_4c/pool_proj'\n",
    "                )(x_pool_proj)\n",
    "    x_3x3 = Conv2D(\n",
    "        128, (1, 1), activation='relu',  padding='same',\n",
    "        kernel_initializer = \"glorot_normal\" ,\n",
    "        bias_initializer = keras.initializers.Constant(value=0.2),\n",
    "        W_regularizer=l2(0.0002), name='inception_4c/3x3_reduce'\n",
    "                )(x)\n",
    "    x_3x3 = Conv2D(\n",
    "        256, (3, 3), activation='relu',  padding='same',\n",
    "        kernel_initializer = \"glorot_normal\" ,\n",
    "        bias_initializer = keras.initializers.Constant(value=0.2),\n",
    "        W_regularizer=l2(0.0002), name='inception_4c/3x3'\n",
    "        )(x_3x3)\n",
    "    x_1x1 = Conv2D(\n",
    "        128, (1, 1), activation='relu',  padding='same',\n",
    "        kernel_initializer = \"glorot_normal\" ,\n",
    "        bias_initializer = keras.initializers.Constant(value=0.2),\n",
    "        W_regularizer=l2(0.0002), name='inception_4c/1x1'\n",
    "                )(x)\n",
    "    x = Concatenate(axis=3, name='inception_4c/output')([x_5x5, x_pool_proj, x_3x3, x_1x1])\n",
    "\n",
    "    #Inception 4d\n",
    "    x_5x5 = Conv2D(\n",
    "        32, (1, 1), activation='relu',  padding='same',\n",
    "        kernel_initializer = \"glorot_normal\" ,\n",
    "        bias_initializer = keras.initializers.Constant(value=0.2),\n",
    "        W_regularizer=l2(0.0002), name='inception_4d/5x5_reduce'\n",
    "                )(x)\n",
    "    x_5x5 = Conv2D(\n",
    "        64, (5, 5), activation='relu',  padding='same',\n",
    "        kernel_initializer = \"glorot_normal\" ,\n",
    "        bias_initializer = keras.initializers.Constant(value=0.2),\n",
    "        W_regularizer=l2(0.0002), name='inception_4d/5x5'\n",
    "                )(x_5x5)\n",
    "    x_pool_proj = MaxPooling2D(\n",
    "        pool_size=(3,3), strides = (1,1),\n",
    "        padding=\"same\", name='inception_4d/pool')(x)\n",
    "    x_pool_proj = Conv2D(\n",
    "        64, (1, 1), activation='relu',  padding='same',\n",
    "        kernel_initializer = \"glorot_normal\" ,\n",
    "        bias_initializer = keras.initializers.Constant(value=0.2),\n",
    "        W_regularizer=l2(0.0002), name='inception_4d/pool_proj'\n",
    "                )(x_pool_proj)\n",
    "    x_3x3 = Conv2D(\n",
    "        144, (1, 1), activation='relu',  padding='same',\n",
    "        kernel_initializer = \"glorot_normal\" ,\n",
    "        bias_initializer = keras.initializers.Constant(value=0.2),\n",
    "        W_regularizer=l2(0.0002), name='inception_4d/3x3_reduce'\n",
    "                )(x)\n",
    "    x_3x3 = Conv2D(\n",
    "        288, (3, 3), activation='relu',  padding='same',\n",
    "        kernel_initializer = \"glorot_normal\" ,\n",
    "        bias_initializer = keras.initializers.Constant(value=0.2),\n",
    "        W_regularizer=l2(0.0002), name='inception_4d/3x3'\n",
    "        )(x_3x3)\n",
    "    x_1x1 = Conv2D(\n",
    "        112, (1, 1), activation='relu',  padding='same',\n",
    "        kernel_initializer = \"glorot_normal\" ,\n",
    "        bias_initializer = keras.initializers.Constant(value=0.2),\n",
    "        W_regularizer=l2(0.0002), name='inception_4d/1x1'\n",
    "                )(x)\n",
    "    x_out_2 = Concatenate(axis=3, name='inception_4d/output')([x_5x5, x_pool_proj, x_3x3, x_1x1])\n",
    "\n",
    "    #Inception 4e\n",
    "    x_5x5 = Conv2D(\n",
    "        32, (1, 1), activation='relu',  padding='same',\n",
    "        kernel_initializer = \"glorot_normal\" ,\n",
    "        bias_initializer = keras.initializers.Constant(value=0.2),\n",
    "        W_regularizer=l2(0.0002), name='inception_4e/5x5_reduce'\n",
    "                )(x_out_2)\n",
    "    x_5x5 = Conv2D(\n",
    "        128, (5, 5), activation='relu',  padding='same',\n",
    "        kernel_initializer = \"glorot_normal\" ,\n",
    "        bias_initializer = keras.initializers.Constant(value=0.2),\n",
    "        W_regularizer=l2(0.0002), name='inception_4e/5x5'\n",
    "                )(x_5x5)\n",
    "    x_pool_proj = MaxPooling2D(\n",
    "        pool_size=(3,3), strides = (1,1),\n",
    "        padding=\"same\", name='inception_4e/pool')(x_out_2)\n",
    "    x_pool_proj = Conv2D(\n",
    "        128, (1, 1), activation='relu',  padding='same',\n",
    "        kernel_initializer = \"glorot_normal\" ,\n",
    "        bias_initializer = keras.initializers.Constant(value=0.2),\n",
    "        W_regularizer=l2(0.0002), name='inception_4e/pool_proj'\n",
    "                )(x_pool_proj)\n",
    "    x_3x3 = Conv2D(\n",
    "        160, (1, 1), activation='relu',  padding='same',\n",
    "        kernel_initializer = \"glorot_normal\" ,\n",
    "        bias_initializer = keras.initializers.Constant(value=0.2),\n",
    "        W_regularizer=l2(0.0002), name='inception_4e/3x3_reduce'\n",
    "                )(x_out_2)\n",
    "    x_3x3 = Conv2D(\n",
    "        320, (3, 3), activation='relu',  padding='same',\n",
    "        kernel_initializer = \"glorot_normal\" ,\n",
    "        bias_initializer = keras.initializers.Constant(value=0.2),\n",
    "        W_regularizer=l2(0.0002), name='inception_4e/3x3'\n",
    "        )(x_3x3)\n",
    "    x_1x1 = Conv2D(\n",
    "        256, (1, 1), activation='relu',  padding='same',\n",
    "        kernel_initializer = \"glorot_normal\" ,\n",
    "        bias_initializer = keras.initializers.Constant(value=0.2),\n",
    "        W_regularizer=l2(0.0002), name='inception_4e/1x1'\n",
    "                )(x_out_2)\n",
    "    x = Concatenate(axis=3, name='inception_4e/output')([x_5x5, x_pool_proj, x_3x3, x_1x1])\n",
    "    x = ZeroPadding2D(padding=(1, 1))(x)\n",
    "    #x = PoolHelper()(x)\n",
    "    x = MaxPooling2D(pool_size=(3,3), strides = (2,2), border_mode='valid', name='pool4/3x3_s2')(x)\n",
    "\n",
    "    #Inception 5a\n",
    "    x_5x5 = Conv2D(\n",
    "        32, (1, 1), activation='relu',  padding='same',\n",
    "        kernel_initializer = \"glorot_normal\" ,\n",
    "        bias_initializer = keras.initializers.Constant(value=0.2),\n",
    "        W_regularizer=l2(0.0002), name='inception_5a/5x5_reduce'\n",
    "                )(x_out_2)\n",
    "    x_5x5 = Conv2D(\n",
    "        128, (5, 5), activation='relu',  padding='same',\n",
    "        kernel_initializer = \"glorot_normal\" ,\n",
    "        bias_initializer = keras.initializers.Constant(value=0.2),\n",
    "        W_regularizer=l2(0.0002), name='inception_5a/5x5'\n",
    "                )(x_5x5)\n",
    "    x_pool_proj = MaxPooling2D(\n",
    "        pool_size=(3,3), strides = (1,1),\n",
    "        padding=\"same\", name='inception_5a/pool')(x_out_2)\n",
    "    x_pool_proj = Conv2D(\n",
    "        128, (1, 1), activation='relu',  padding='same',\n",
    "        kernel_initializer = \"glorot_normal\" ,\n",
    "        bias_initializer = keras.initializers.Constant(value=0.2),\n",
    "        W_regularizer=l2(0.0002), name='inception_5a/pool_proj'\n",
    "                )(x_pool_proj)\n",
    "    x_3x3 = Conv2D(\n",
    "        160, (1, 1), activation='relu',  padding='same',\n",
    "        kernel_initializer = \"glorot_normal\" ,\n",
    "        bias_initializer = keras.initializers.Constant(value=0.2),\n",
    "        W_regularizer=l2(0.0002), name='inception_5a/3x3_reduce'\n",
    "                )(x_out_2)\n",
    "    x_3x3 = Conv2D(\n",
    "        320, (3, 3), activation='relu',  padding='same',\n",
    "        kernel_initializer = \"glorot_normal\" ,\n",
    "        bias_initializer = keras.initializers.Constant(value=0.2),\n",
    "        W_regularizer=l2(0.0002), name='inception_5a/3x3'\n",
    "        )(x_3x3)\n",
    "    x_1x1 = Conv2D(\n",
    "        256, (1, 1), activation='relu',  padding='same',\n",
    "        kernel_initializer = \"glorot_normal\" ,\n",
    "        bias_initializer = keras.initializers.Constant(value=0.2),\n",
    "        W_regularizer=l2(0.0002), name='inception_5a/1x1'\n",
    "                )(x_out_2)\n",
    "    x = Concatenate(axis=3,name='inception_5a/output')([x_5x5, x_pool_proj, x_3x3, x_1x1])\n",
    "    \n",
    "    #Inception 5b\n",
    "    x_5x5 = Conv2D(\n",
    "        48, (1, 1), activation='relu',  padding='same',\n",
    "        kernel_initializer = \"glorot_normal\" ,\n",
    "        bias_initializer = keras.initializers.Constant(value=0.2),\n",
    "        W_regularizer=l2(0.0002), name='inception_5b/5x5_reduce'\n",
    "                )(x_out_2)\n",
    "    x_5x5 = Conv2D(\n",
    "        128, (5, 5), activation='relu',  padding='same',\n",
    "        kernel_initializer = \"glorot_normal\" ,\n",
    "        bias_initializer = keras.initializers.Constant(value=0.2),\n",
    "        W_regularizer=l2(0.0002), name='inception_5b/5x5'\n",
    "                )(x_5x5)\n",
    "    x_pool_proj = MaxPooling2D(\n",
    "        pool_size=(3,3), strides = (1,1),\n",
    "        padding=\"same\", name='inception_5b/pool')(x_out_2)\n",
    "    x_pool_proj = Conv2D(\n",
    "        128, (1, 1), activation='relu',  padding='same',\n",
    "        kernel_initializer = \"glorot_normal\" ,\n",
    "        bias_initializer = keras.initializers.Constant(value=0.2),\n",
    "        W_regularizer=l2(0.0002), name='inception_5b/pool_proj'\n",
    "                )(x_pool_proj)\n",
    "    x_3x3 = Conv2D(\n",
    "        192, (1, 1), activation='relu',  padding='same',\n",
    "        kernel_initializer = \"glorot_normal\" ,\n",
    "        bias_initializer = keras.initializers.Constant(value=0.2),\n",
    "        W_regularizer=l2(0.0002), name='inception_5b/3x3_reduce'\n",
    "                )(x_out_2)\n",
    "    x_3x3 = Conv2D(\n",
    "        384, (3, 3), activation='relu',  padding='same',\n",
    "        kernel_initializer = \"glorot_normal\" ,\n",
    "        bias_initializer = keras.initializers.Constant(value=0.2),\n",
    "        W_regularizer=l2(0.0002), name='inception_5b/3x3'\n",
    "        )(x_3x3)\n",
    "    x_1x1 = Conv2D(\n",
    "        384, (1, 1), activation='relu',  padding='same',\n",
    "        kernel_initializer = \"glorot_normal\" ,\n",
    "        bias_initializer = keras.initializers.Constant(value=0.2),\n",
    "        W_regularizer=l2(0.0002), name='inception_5b/1x1'\n",
    "                )(x_out_2)\n",
    "    x = Concatenate(axis=3, name='inception_5b/output')([x_5x5, x_pool_proj, x_3x3, x_1x1])\n",
    "    x = AveragePooling2D(pool_size=(7,7), name='pool5/7x7_s2')(x)\n",
    "    x = Flatten()(x)\n",
    "    x_out_3 = Dropout(0.4)(x)\n",
    "    \n",
    "    #Losses\n",
    "    #loss1\n",
    "    x_out_1 = AveragePooling2D(pool_size=(5,5), strides=(3,3), name='loss1/ave_pool')(x_out_1)\n",
    "    x_out_1 = Conv2D(\n",
    "        128, (1, 1), activation='relu',  padding='same',\n",
    "        kernel_initializer = \"glorot_normal\" ,\n",
    "        bias_initializer = keras.initializers.Constant(value=0.2),\n",
    "        name='loss1/conv'\n",
    "                )(x_out_1)\n",
    "    x_out_1 = Flatten()(x_out_1)\n",
    "    x_out_1 = Dense(1024, activation=\"relu\",name='loss1/fc')(x_out_1)\n",
    "    x_out_1 = Dropout(0.7)(x_out_1)\n",
    "    x_out_1 = Dense(num_labels, activation=\"softmax\", name='loss1_61/classifier')(x_out_1)\n",
    "    #loss2\n",
    "    x_out_2 = AveragePooling2D(pool_size=(5,5), strides=(3,3), name='loss2/ave_pool')(x_out_2)\n",
    "    x_out_2 = Conv2D(\n",
    "        128, (1, 1), activation='relu',  padding='same',\n",
    "        kernel_initializer = \"glorot_normal\" ,\n",
    "        bias_initializer = keras.initializers.Constant(value=0.2),\n",
    "        name='loss2/conv'\n",
    "                )(x_out_2)\n",
    "    x_out_2 = Flatten()(x_out_2)\n",
    "    x_out_2 = Dense(1024, activation=\"relu\", name='loss2/fc')(x_out_2)\n",
    "    x_out_2 = Dropout(0.7)(x_out_2)\n",
    "    x_out_2 = Dense(num_labels, activation=\"softmax\", name='loss2_61/classifier')(x_out_2)\n",
    "    #loss3\n",
    "    x_out_3 = Dense(num_labels, activation=\"softmax\", name='loss3_61/classifier')(x_out_3)\n",
    "    \n",
    "    net = Model(input=inpt, output=[x_out_1,x_out_2,x_out_3])\n",
    "    \n",
    "    if weights_path:\n",
    "        net.load_weights(weights_path, by_name=True)\n",
    "    \n",
    "    return net"
   ]
  },
  {
   "cell_type": "code",
   "execution_count": 27,
   "metadata": {
    "collapsed": false,
    "scrolled": true
   },
   "outputs": [
    {
     "name": "stderr",
     "output_type": "stream",
     "text": [
      "/anaconda/lib/python2.7/site-packages/ipykernel/__main__.py:1: ParserWarning: Falling back to the 'python' engine because the 'c' engine does not support regex separators (separators > 1 char and different from '\\s+' are interpreted as regex); you can avoid this warning by specifying engine='python'.\n",
      "  if __name__ == '__main__':\n"
     ]
    }
   ],
   "source": [
    "labs = pd.read_csv(lab_path, header=None, sep=\"\\s\")\n",
    "labs[0] = labs[0].apply(lambda x: \"../../data/\" + x)"
   ]
  },
  {
   "cell_type": "code",
   "execution_count": 28,
   "metadata": {
    "collapsed": false
   },
   "outputs": [],
   "source": [
    "dic_label_num = {name: num for num, name in enumerate(labs[1].unique())}"
   ]
  },
  {
   "cell_type": "code",
   "execution_count": 29,
   "metadata": {
    "collapsed": false
   },
   "outputs": [],
   "source": [
    "import os\n",
    "from os import walk\n",
    "i=0\n",
    "im_paths = []\n",
    "for (dirpath, dirnames, filenames) in os.walk(\"../../data/images/\"):\n",
    "    if len(filenames) > 0:\n",
    "        fnames = [dirpath +\"/\"+ fname for fname in filenames]\n",
    "        im_paths.extend(fnames)\n"
   ]
  },
  {
   "cell_type": "code",
   "execution_count": 30,
   "metadata": {
    "collapsed": false
   },
   "outputs": [],
   "source": [
    "sample_images = im_paths[:10]"
   ]
  },
  {
   "cell_type": "code",
   "execution_count": 31,
   "metadata": {
    "collapsed": false
   },
   "outputs": [
    {
     "data": {
      "text/plain": [
       "10"
      ]
     },
     "execution_count": 31,
     "metadata": {},
     "output_type": "execute_result"
    }
   ],
   "source": [
    "len(sample_images)"
   ]
  },
  {
   "cell_type": "code",
   "execution_count": 32,
   "metadata": {
    "collapsed": false,
    "scrolled": true
   },
   "outputs": [],
   "source": [
    "import numpy as np"
   ]
  },
  {
   "cell_type": "code",
   "execution_count": 33,
   "metadata": {
    "collapsed": false
   },
   "outputs": [],
   "source": [
    "X = []\n",
    "y = np.zeros((len(sample_images), num_labels))\n",
    "for i, obs in enumerate(sample_images):\n",
    "    im = cv2.imread(obs)\n",
    "    im = cv2.resize(im,(224, 224), interpolation = cv2.INTER_CUBIC).astype(np.float32)\n",
    "    #substracting imagenet means\n",
    "    im[:, :, 0] -= 123.68\n",
    "    im[:, :, 1] -= 116.779\n",
    "    im[:, :, 2] -= 103.939\n",
    "    #reordering from BGR ro RGB\n",
    "    im[:,:,[0,1,2]] = im[:,:,[2,1,0]]\n",
    "    X.append(im)\n",
    "    lab = labs.loc[labs[0] == obs, 1].values[0]\n",
    "    y[i, dic_label_num[lab]] = 1\n",
    "X = np.array(X)"
   ]
  },
  {
   "cell_type": "code",
   "execution_count": null,
   "metadata": {
    "collapsed": false
   },
   "outputs": [],
   "source": [
    "%pdb"
   ]
  },
  {
   "cell_type": "code",
   "execution_count": 36,
   "metadata": {
    "collapsed": true
   },
   "outputs": [
    {
     "name": "stderr",
     "output_type": "stream",
     "text": [
      "/anaconda/lib/python2.7/site-packages/ipykernel/__main__.py:8: UserWarning: Update your `Conv2D` call to the Keras 2 API: `Conv2D(64, (7, 7), kernel_initializer=\"glorot_normal\", name=\"conv1/7x7_s2\", activation=\"relu\", padding=\"same\", strides=(2, 2), kernel_regularizer=<keras.reg..., bias_initializer=<keras.ini...)`\n",
      "/anaconda/lib/python2.7/site-packages/ipykernel/__main__.py:20: UserWarning: Update your `Conv2D` call to the Keras 2 API: `Conv2D(64, (1, 1), kernel_initializer=\"glorot_normal\", name=\"conv2/3x3_reduce\", activation=\"relu\", padding=\"same\", kernel_regularizer=<keras.reg..., bias_initializer=<keras.ini...)`\n",
      "/anaconda/lib/python2.7/site-packages/ipykernel/__main__.py:26: UserWarning: Update your `Conv2D` call to the Keras 2 API: `Conv2D(64, (3, 3), kernel_initializer=\"glorot_normal\", name=\"conv2/3x3\", activation=\"relu\", padding=\"same\", kernel_regularizer=<keras.reg..., bias_initializer=<keras.ini...)`\n",
      "/anaconda/lib/python2.7/site-packages/ipykernel/__main__.py:32: UserWarning: Update your `MaxPooling2D` call to the Keras 2 API: `MaxPooling2D(padding=\"valid\", strides=(2, 2), name=\"pool2/3x3_s2\", pool_size=(3, 3))`\n",
      "/anaconda/lib/python2.7/site-packages/ipykernel/__main__.py:39: UserWarning: Update your `Conv2D` call to the Keras 2 API: `Conv2D(16, (1, 1), kernel_initializer=\"glorot_normal\", name=\"inception_3a/5x5_reduce\", activation=\"relu\", padding=\"same\", kernel_regularizer=<keras.reg..., bias_initializer=<keras.ini...)`\n",
      "/anaconda/lib/python2.7/site-packages/ipykernel/__main__.py:45: UserWarning: Update your `Conv2D` call to the Keras 2 API: `Conv2D(32, (5, 5), kernel_initializer=\"glorot_normal\", name=\"inception_3a/5x5\", activation=\"relu\", padding=\"same\", kernel_regularizer=<keras.reg..., bias_initializer=<keras.ini...)`\n",
      "/anaconda/lib/python2.7/site-packages/ipykernel/__main__.py:54: UserWarning: Update your `Conv2D` call to the Keras 2 API: `Conv2D(32, (1, 1), kernel_initializer=\"glorot_normal\", name=\"inception_3a/pool_proj\", activation=\"relu\", padding=\"same\", kernel_regularizer=<keras.reg..., bias_initializer=<keras.ini...)`\n",
      "/anaconda/lib/python2.7/site-packages/ipykernel/__main__.py:60: UserWarning: Update your `Conv2D` call to the Keras 2 API: `Conv2D(96, (1, 1), kernel_initializer=\"glorot_normal\", name=\"inception_3a/3x3_reduce\", activation=\"relu\", padding=\"same\", kernel_regularizer=<keras.reg..., bias_initializer=<keras.ini...)`\n",
      "/anaconda/lib/python2.7/site-packages/ipykernel/__main__.py:66: UserWarning: Update your `Conv2D` call to the Keras 2 API: `Conv2D(128, (3, 3), kernel_initializer=\"glorot_normal\", name=\"inception_3a/3x3\", activation=\"relu\", padding=\"same\", kernel_regularizer=<keras.reg..., bias_initializer=<keras.ini...)`\n",
      "/anaconda/lib/python2.7/site-packages/ipykernel/__main__.py:72: UserWarning: Update your `Conv2D` call to the Keras 2 API: `Conv2D(64, (1, 1), kernel_initializer=\"glorot_normal\", name=\"inception_3a/1x1\", activation=\"relu\", padding=\"same\", kernel_regularizer=<keras.reg..., bias_initializer=<keras.ini...)`\n",
      "/anaconda/lib/python2.7/site-packages/ipykernel/__main__.py:81: UserWarning: Update your `Conv2D` call to the Keras 2 API: `Conv2D(32, (1, 1), kernel_initializer=\"glorot_normal\", name=\"inception_3b/5x5_reduce\", activation=\"relu\", padding=\"same\", kernel_regularizer=<keras.reg..., bias_initializer=<keras.ini...)`\n",
      "/anaconda/lib/python2.7/site-packages/ipykernel/__main__.py:87: UserWarning: Update your `Conv2D` call to the Keras 2 API: `Conv2D(96, (5, 5), kernel_initializer=\"glorot_normal\", name=\"inception_3b/5x5\", activation=\"relu\", padding=\"same\", kernel_regularizer=<keras.reg..., bias_initializer=<keras.ini...)`\n",
      "/anaconda/lib/python2.7/site-packages/ipykernel/__main__.py:96: UserWarning: Update your `Conv2D` call to the Keras 2 API: `Conv2D(64, (1, 1), kernel_initializer=\"glorot_normal\", name=\"inception_3b/pool_proj\", activation=\"relu\", padding=\"same\", kernel_regularizer=<keras.reg..., bias_initializer=<keras.ini...)`\n",
      "/anaconda/lib/python2.7/site-packages/ipykernel/__main__.py:102: UserWarning: Update your `Conv2D` call to the Keras 2 API: `Conv2D(128, (1, 1), kernel_initializer=\"glorot_normal\", name=\"inception_3b/3x3_reduce\", activation=\"relu\", padding=\"same\", kernel_regularizer=<keras.reg..., bias_initializer=<keras.ini...)`\n",
      "/anaconda/lib/python2.7/site-packages/ipykernel/__main__.py:108: UserWarning: Update your `Conv2D` call to the Keras 2 API: `Conv2D(192, (3, 3), kernel_initializer=\"glorot_normal\", name=\"inception_3b/3x3\", activation=\"relu\", padding=\"same\", kernel_regularizer=<keras.reg..., bias_initializer=<keras.ini...)`\n",
      "/anaconda/lib/python2.7/site-packages/ipykernel/__main__.py:114: UserWarning: Update your `Conv2D` call to the Keras 2 API: `Conv2D(128, (1, 1), kernel_initializer=\"glorot_normal\", name=\"inception_3b/1x1\", activation=\"relu\", padding=\"same\", kernel_regularizer=<keras.reg..., bias_initializer=<keras.ini...)`\n",
      "/anaconda/lib/python2.7/site-packages/ipykernel/__main__.py:119: UserWarning: Update your `MaxPooling2D` call to the Keras 2 API: `MaxPooling2D(padding=\"valid\", strides=(2, 2), name=\"pool3/3x3_s2\", pool_size=(3, 3))`\n",
      "/anaconda/lib/python2.7/site-packages/ipykernel/__main__.py:126: UserWarning: Update your `Conv2D` call to the Keras 2 API: `Conv2D(16, (1, 1), kernel_initializer=\"glorot_normal\", name=\"inception_4a/5x5_reduce\", activation=\"relu\", padding=\"same\", kernel_regularizer=<keras.reg..., bias_initializer=<keras.ini...)`\n",
      "/anaconda/lib/python2.7/site-packages/ipykernel/__main__.py:132: UserWarning: Update your `Conv2D` call to the Keras 2 API: `Conv2D(48, (5, 5), kernel_initializer=\"glorot_normal\", name=\"inception_4a/5x5\", activation=\"relu\", padding=\"same\", kernel_regularizer=<keras.reg..., bias_initializer=<keras.ini...)`\n",
      "/anaconda/lib/python2.7/site-packages/ipykernel/__main__.py:141: UserWarning: Update your `Conv2D` call to the Keras 2 API: `Conv2D(64, (1, 1), kernel_initializer=\"glorot_normal\", name=\"inception_4a/pool_proj\", activation=\"relu\", padding=\"same\", kernel_regularizer=<keras.reg..., bias_initializer=<keras.ini...)`\n",
      "/anaconda/lib/python2.7/site-packages/ipykernel/__main__.py:147: UserWarning: Update your `Conv2D` call to the Keras 2 API: `Conv2D(96, (1, 1), kernel_initializer=\"glorot_normal\", name=\"inception_4a/3x3_reduce\", activation=\"relu\", padding=\"same\", kernel_regularizer=<keras.reg..., bias_initializer=<keras.ini...)`\n",
      "/anaconda/lib/python2.7/site-packages/ipykernel/__main__.py:153: UserWarning: Update your `Conv2D` call to the Keras 2 API: `Conv2D(208, (3, 3), kernel_initializer=\"glorot_normal\", name=\"inception_4a/3x3\", activation=\"relu\", padding=\"same\", kernel_regularizer=<keras.reg..., bias_initializer=<keras.ini...)`\n",
      "/anaconda/lib/python2.7/site-packages/ipykernel/__main__.py:159: UserWarning: Update your `Conv2D` call to the Keras 2 API: `Conv2D(192, (1, 1), kernel_initializer=\"glorot_normal\", name=\"inception_4a/1x1\", activation=\"relu\", padding=\"same\", kernel_regularizer=<keras.reg..., bias_initializer=<keras.ini...)`\n",
      "/anaconda/lib/python2.7/site-packages/ipykernel/__main__.py:168: UserWarning: Update your `Conv2D` call to the Keras 2 API: `Conv2D(24, (1, 1), kernel_initializer=\"glorot_normal\", name=\"inception_4b/5x5_reduce\", activation=\"relu\", padding=\"same\", kernel_regularizer=<keras.reg..., bias_initializer=<keras.ini...)`\n",
      "/anaconda/lib/python2.7/site-packages/ipykernel/__main__.py:174: UserWarning: Update your `Conv2D` call to the Keras 2 API: `Conv2D(64, (5, 5), kernel_initializer=\"glorot_normal\", name=\"inception_4b/5x5\", activation=\"relu\", padding=\"same\", kernel_regularizer=<keras.reg..., bias_initializer=<keras.ini...)`\n",
      "/anaconda/lib/python2.7/site-packages/ipykernel/__main__.py:183: UserWarning: Update your `Conv2D` call to the Keras 2 API: `Conv2D(64, (1, 1), kernel_initializer=\"glorot_normal\", name=\"inception_4b/pool_proj\", activation=\"relu\", padding=\"same\", kernel_regularizer=<keras.reg..., bias_initializer=<keras.ini...)`\n",
      "/anaconda/lib/python2.7/site-packages/ipykernel/__main__.py:189: UserWarning: Update your `Conv2D` call to the Keras 2 API: `Conv2D(112, (1, 1), kernel_initializer=\"glorot_normal\", name=\"inception_4b/3x3_reduce\", activation=\"relu\", padding=\"same\", kernel_regularizer=<keras.reg..., bias_initializer=<keras.ini...)`\n",
      "/anaconda/lib/python2.7/site-packages/ipykernel/__main__.py:195: UserWarning: Update your `Conv2D` call to the Keras 2 API: `Conv2D(224, (3, 3), kernel_initializer=\"glorot_normal\", name=\"inception_4b/3x3\", activation=\"relu\", padding=\"same\", kernel_regularizer=<keras.reg..., bias_initializer=<keras.ini...)`\n",
      "/anaconda/lib/python2.7/site-packages/ipykernel/__main__.py:201: UserWarning: Update your `Conv2D` call to the Keras 2 API: `Conv2D(160, (1, 1), kernel_initializer=\"glorot_normal\", name=\"inception_4b/1x1\", activation=\"relu\", padding=\"same\", kernel_regularizer=<keras.reg..., bias_initializer=<keras.ini...)`\n",
      "/anaconda/lib/python2.7/site-packages/ipykernel/__main__.py:210: UserWarning: Update your `Conv2D` call to the Keras 2 API: `Conv2D(24, (1, 1), kernel_initializer=\"glorot_normal\", name=\"inception_4c/5x5_reduce\", activation=\"relu\", padding=\"same\", kernel_regularizer=<keras.reg..., bias_initializer=<keras.ini...)`\n",
      "/anaconda/lib/python2.7/site-packages/ipykernel/__main__.py:216: UserWarning: Update your `Conv2D` call to the Keras 2 API: `Conv2D(64, (5, 5), kernel_initializer=\"glorot_normal\", name=\"inception_4c/5x5\", activation=\"relu\", padding=\"same\", kernel_regularizer=<keras.reg..., bias_initializer=<keras.ini...)`\n",
      "/anaconda/lib/python2.7/site-packages/ipykernel/__main__.py:225: UserWarning: Update your `Conv2D` call to the Keras 2 API: `Conv2D(64, (1, 1), kernel_initializer=\"glorot_normal\", name=\"inception_4c/pool_proj\", activation=\"relu\", padding=\"same\", kernel_regularizer=<keras.reg..., bias_initializer=<keras.ini...)`\n",
      "/anaconda/lib/python2.7/site-packages/ipykernel/__main__.py:231: UserWarning: Update your `Conv2D` call to the Keras 2 API: `Conv2D(128, (1, 1), kernel_initializer=\"glorot_normal\", name=\"inception_4c/3x3_reduce\", activation=\"relu\", padding=\"same\", kernel_regularizer=<keras.reg..., bias_initializer=<keras.ini...)`\n",
      "/anaconda/lib/python2.7/site-packages/ipykernel/__main__.py:237: UserWarning: Update your `Conv2D` call to the Keras 2 API: `Conv2D(256, (3, 3), kernel_initializer=\"glorot_normal\", name=\"inception_4c/3x3\", activation=\"relu\", padding=\"same\", kernel_regularizer=<keras.reg..., bias_initializer=<keras.ini...)`\n",
      "/anaconda/lib/python2.7/site-packages/ipykernel/__main__.py:243: UserWarning: Update your `Conv2D` call to the Keras 2 API: `Conv2D(128, (1, 1), kernel_initializer=\"glorot_normal\", name=\"inception_4c/1x1\", activation=\"relu\", padding=\"same\", kernel_regularizer=<keras.reg..., bias_initializer=<keras.ini...)`\n",
      "/anaconda/lib/python2.7/site-packages/ipykernel/__main__.py:252: UserWarning: Update your `Conv2D` call to the Keras 2 API: `Conv2D(32, (1, 1), kernel_initializer=\"glorot_normal\", name=\"inception_4d/5x5_reduce\", activation=\"relu\", padding=\"same\", kernel_regularizer=<keras.reg..., bias_initializer=<keras.ini...)`\n",
      "/anaconda/lib/python2.7/site-packages/ipykernel/__main__.py:258: UserWarning: Update your `Conv2D` call to the Keras 2 API: `Conv2D(64, (5, 5), kernel_initializer=\"glorot_normal\", name=\"inception_4d/5x5\", activation=\"relu\", padding=\"same\", kernel_regularizer=<keras.reg..., bias_initializer=<keras.ini...)`\n",
      "/anaconda/lib/python2.7/site-packages/ipykernel/__main__.py:267: UserWarning: Update your `Conv2D` call to the Keras 2 API: `Conv2D(64, (1, 1), kernel_initializer=\"glorot_normal\", name=\"inception_4d/pool_proj\", activation=\"relu\", padding=\"same\", kernel_regularizer=<keras.reg..., bias_initializer=<keras.ini...)`\n",
      "/anaconda/lib/python2.7/site-packages/ipykernel/__main__.py:273: UserWarning: Update your `Conv2D` call to the Keras 2 API: `Conv2D(144, (1, 1), kernel_initializer=\"glorot_normal\", name=\"inception_4d/3x3_reduce\", activation=\"relu\", padding=\"same\", kernel_regularizer=<keras.reg..., bias_initializer=<keras.ini...)`\n",
      "/anaconda/lib/python2.7/site-packages/ipykernel/__main__.py:279: UserWarning: Update your `Conv2D` call to the Keras 2 API: `Conv2D(288, (3, 3), kernel_initializer=\"glorot_normal\", name=\"inception_4d/3x3\", activation=\"relu\", padding=\"same\", kernel_regularizer=<keras.reg..., bias_initializer=<keras.ini...)`\n",
      "/anaconda/lib/python2.7/site-packages/ipykernel/__main__.py:285: UserWarning: Update your `Conv2D` call to the Keras 2 API: `Conv2D(112, (1, 1), kernel_initializer=\"glorot_normal\", name=\"inception_4d/1x1\", activation=\"relu\", padding=\"same\", kernel_regularizer=<keras.reg..., bias_initializer=<keras.ini...)`\n",
      "/anaconda/lib/python2.7/site-packages/ipykernel/__main__.py:294: UserWarning: Update your `Conv2D` call to the Keras 2 API: `Conv2D(32, (1, 1), kernel_initializer=\"glorot_normal\", name=\"inception_4e/5x5_reduce\", activation=\"relu\", padding=\"same\", kernel_regularizer=<keras.reg..., bias_initializer=<keras.ini...)`\n",
      "/anaconda/lib/python2.7/site-packages/ipykernel/__main__.py:300: UserWarning: Update your `Conv2D` call to the Keras 2 API: `Conv2D(128, (5, 5), kernel_initializer=\"glorot_normal\", name=\"inception_4e/5x5\", activation=\"relu\", padding=\"same\", kernel_regularizer=<keras.reg..., bias_initializer=<keras.ini...)`\n",
      "/anaconda/lib/python2.7/site-packages/ipykernel/__main__.py:309: UserWarning: Update your `Conv2D` call to the Keras 2 API: `Conv2D(128, (1, 1), kernel_initializer=\"glorot_normal\", name=\"inception_4e/pool_proj\", activation=\"relu\", padding=\"same\", kernel_regularizer=<keras.reg..., bias_initializer=<keras.ini...)`\n",
      "/anaconda/lib/python2.7/site-packages/ipykernel/__main__.py:315: UserWarning: Update your `Conv2D` call to the Keras 2 API: `Conv2D(160, (1, 1), kernel_initializer=\"glorot_normal\", name=\"inception_4e/3x3_reduce\", activation=\"relu\", padding=\"same\", kernel_regularizer=<keras.reg..., bias_initializer=<keras.ini...)`\n",
      "/anaconda/lib/python2.7/site-packages/ipykernel/__main__.py:321: UserWarning: Update your `Conv2D` call to the Keras 2 API: `Conv2D(320, (3, 3), kernel_initializer=\"glorot_normal\", name=\"inception_4e/3x3\", activation=\"relu\", padding=\"same\", kernel_regularizer=<keras.reg..., bias_initializer=<keras.ini...)`\n",
      "/anaconda/lib/python2.7/site-packages/ipykernel/__main__.py:327: UserWarning: Update your `Conv2D` call to the Keras 2 API: `Conv2D(256, (1, 1), kernel_initializer=\"glorot_normal\", name=\"inception_4e/1x1\", activation=\"relu\", padding=\"same\", kernel_regularizer=<keras.reg..., bias_initializer=<keras.ini...)`\n",
      "/anaconda/lib/python2.7/site-packages/ipykernel/__main__.py:332: UserWarning: Update your `MaxPooling2D` call to the Keras 2 API: `MaxPooling2D(padding=\"valid\", strides=(2, 2), name=\"pool4/3x3_s2\", pool_size=(3, 3))`\n",
      "/anaconda/lib/python2.7/site-packages/ipykernel/__main__.py:339: UserWarning: Update your `Conv2D` call to the Keras 2 API: `Conv2D(32, (1, 1), kernel_initializer=\"glorot_normal\", name=\"inception_5a/5x5_reduce\", activation=\"relu\", padding=\"same\", kernel_regularizer=<keras.reg..., bias_initializer=<keras.ini...)`\n",
      "/anaconda/lib/python2.7/site-packages/ipykernel/__main__.py:345: UserWarning: Update your `Conv2D` call to the Keras 2 API: `Conv2D(128, (5, 5), kernel_initializer=\"glorot_normal\", name=\"inception_5a/5x5\", activation=\"relu\", padding=\"same\", kernel_regularizer=<keras.reg..., bias_initializer=<keras.ini...)`\n",
      "/anaconda/lib/python2.7/site-packages/ipykernel/__main__.py:354: UserWarning: Update your `Conv2D` call to the Keras 2 API: `Conv2D(128, (1, 1), kernel_initializer=\"glorot_normal\", name=\"inception_5a/pool_proj\", activation=\"relu\", padding=\"same\", kernel_regularizer=<keras.reg..., bias_initializer=<keras.ini...)`\n",
      "/anaconda/lib/python2.7/site-packages/ipykernel/__main__.py:360: UserWarning: Update your `Conv2D` call to the Keras 2 API: `Conv2D(160, (1, 1), kernel_initializer=\"glorot_normal\", name=\"inception_5a/3x3_reduce\", activation=\"relu\", padding=\"same\", kernel_regularizer=<keras.reg..., bias_initializer=<keras.ini...)`\n",
      "/anaconda/lib/python2.7/site-packages/ipykernel/__main__.py:366: UserWarning: Update your `Conv2D` call to the Keras 2 API: `Conv2D(320, (3, 3), kernel_initializer=\"glorot_normal\", name=\"inception_5a/3x3\", activation=\"relu\", padding=\"same\", kernel_regularizer=<keras.reg..., bias_initializer=<keras.ini...)`\n",
      "/anaconda/lib/python2.7/site-packages/ipykernel/__main__.py:372: UserWarning: Update your `Conv2D` call to the Keras 2 API: `Conv2D(256, (1, 1), kernel_initializer=\"glorot_normal\", name=\"inception_5a/1x1\", activation=\"relu\", padding=\"same\", kernel_regularizer=<keras.reg..., bias_initializer=<keras.ini...)`\n",
      "/anaconda/lib/python2.7/site-packages/ipykernel/__main__.py:381: UserWarning: Update your `Conv2D` call to the Keras 2 API: `Conv2D(48, (1, 1), kernel_initializer=\"glorot_normal\", name=\"inception_5b/5x5_reduce\", activation=\"relu\", padding=\"same\", kernel_regularizer=<keras.reg..., bias_initializer=<keras.ini...)`\n",
      "/anaconda/lib/python2.7/site-packages/ipykernel/__main__.py:387: UserWarning: Update your `Conv2D` call to the Keras 2 API: `Conv2D(128, (5, 5), kernel_initializer=\"glorot_normal\", name=\"inception_5b/5x5\", activation=\"relu\", padding=\"same\", kernel_regularizer=<keras.reg..., bias_initializer=<keras.ini...)`\n",
      "/anaconda/lib/python2.7/site-packages/ipykernel/__main__.py:396: UserWarning: Update your `Conv2D` call to the Keras 2 API: `Conv2D(128, (1, 1), kernel_initializer=\"glorot_normal\", name=\"inception_5b/pool_proj\", activation=\"relu\", padding=\"same\", kernel_regularizer=<keras.reg..., bias_initializer=<keras.ini...)`\n",
      "/anaconda/lib/python2.7/site-packages/ipykernel/__main__.py:402: UserWarning: Update your `Conv2D` call to the Keras 2 API: `Conv2D(192, (1, 1), kernel_initializer=\"glorot_normal\", name=\"inception_5b/3x3_reduce\", activation=\"relu\", padding=\"same\", kernel_regularizer=<keras.reg..., bias_initializer=<keras.ini...)`\n",
      "/anaconda/lib/python2.7/site-packages/ipykernel/__main__.py:408: UserWarning: Update your `Conv2D` call to the Keras 2 API: `Conv2D(384, (3, 3), kernel_initializer=\"glorot_normal\", name=\"inception_5b/3x3\", activation=\"relu\", padding=\"same\", kernel_regularizer=<keras.reg..., bias_initializer=<keras.ini...)`\n",
      "/anaconda/lib/python2.7/site-packages/ipykernel/__main__.py:414: UserWarning: Update your `Conv2D` call to the Keras 2 API: `Conv2D(384, (1, 1), kernel_initializer=\"glorot_normal\", name=\"inception_5b/1x1\", activation=\"relu\", padding=\"same\", kernel_regularizer=<keras.reg..., bias_initializer=<keras.ini...)`\n",
      "/anaconda/lib/python2.7/site-packages/ipykernel/__main__.py:450: UserWarning: Update your `Model` call to the Keras 2 API: `Model(outputs=[<tf.Tenso..., inputs=Tensor(\"in...)`\n"
     ]
    },
    {
     "ename": "ValueError",
     "evalue": "Dimension 2 in both shapes must be equal, but are 3 and 64 for 'Assign' (op: 'Assign') with input shapes: [7,7,3,64], [7,7,64,3].",
     "output_type": "error",
     "traceback": [
      "\u001b[0;31m---------------------------------------------------------------------------\u001b[0m",
      "\u001b[0;31mValueError\u001b[0m                                Traceback (most recent call last)",
      "\u001b[0;32m<ipython-input-36-9703f561eca6>\u001b[0m in \u001b[0;36m<module>\u001b[0;34m()\u001b[0m\n\u001b[0;32m----> 1\u001b[0;31m \u001b[0mmodel\u001b[0m \u001b[0;34m=\u001b[0m \u001b[0mdeephand\u001b[0m\u001b[0;34m(\u001b[0m\u001b[0mweights_path\u001b[0m\u001b[0;34m=\u001b[0m\u001b[0;34m\"googlenet_weights.h5\"\u001b[0m\u001b[0;34m)\u001b[0m\u001b[0;34m\u001b[0m\u001b[0m\n\u001b[0m\u001b[1;32m      2\u001b[0m \u001b[0mmodel\u001b[0m\u001b[0;34m.\u001b[0m\u001b[0mcompile\u001b[0m\u001b[0;34m(\u001b[0m\u001b[0mloss\u001b[0m\u001b[0;34m=\u001b[0m\u001b[0;34m'categorical_crossentropy'\u001b[0m\u001b[0;34m,\u001b[0m\u001b[0moptimizer\u001b[0m\u001b[0;34m=\u001b[0m\u001b[0;34m'adam'\u001b[0m\u001b[0;34m,\u001b[0m\u001b[0mmetrics\u001b[0m\u001b[0;34m=\u001b[0m\u001b[0;34m[\u001b[0m\u001b[0;34m'accuracy'\u001b[0m\u001b[0;34m]\u001b[0m\u001b[0;34m,\u001b[0m \u001b[0mloss_weights\u001b[0m\u001b[0;34m=\u001b[0m\u001b[0;34m[\u001b[0m\u001b[0;36m0.3\u001b[0m\u001b[0;34m,\u001b[0m \u001b[0;36m0.3\u001b[0m\u001b[0;34m,\u001b[0m \u001b[0;36m1.\u001b[0m\u001b[0;34m]\u001b[0m\u001b[0;34m)\u001b[0m\u001b[0;34m\u001b[0m\u001b[0m\n\u001b[1;32m      3\u001b[0m \u001b[0mhistory\u001b[0m \u001b[0;34m=\u001b[0m \u001b[0mmodel\u001b[0m\u001b[0;34m.\u001b[0m\u001b[0mfit\u001b[0m\u001b[0;34m(\u001b[0m\u001b[0mX\u001b[0m\u001b[0;34m,\u001b[0m \u001b[0;34m[\u001b[0m\u001b[0my\u001b[0m\u001b[0;34m]\u001b[0m\u001b[0;34m*\u001b[0m\u001b[0;36m3\u001b[0m\u001b[0;34m,\u001b[0m \u001b[0mepochs\u001b[0m\u001b[0;34m=\u001b[0m\u001b[0;36m20\u001b[0m\u001b[0;34m,\u001b[0m \u001b[0mbatch_size\u001b[0m \u001b[0;34m=\u001b[0m \u001b[0;36m4\u001b[0m\u001b[0;34m,\u001b[0m \u001b[0mvalidation_split\u001b[0m\u001b[0;34m=\u001b[0m\u001b[0;36m0.2\u001b[0m\u001b[0;34m,\u001b[0m \u001b[0mverbose\u001b[0m\u001b[0;34m=\u001b[0m\u001b[0;36m0\u001b[0m\u001b[0;34m)\u001b[0m\u001b[0;34m\u001b[0m\u001b[0m\n",
      "\u001b[0;32m<ipython-input-4-8df8f8a4db8c>\u001b[0m in \u001b[0;36mdeephand\u001b[0;34m(weights_path)\u001b[0m\n\u001b[1;32m    451\u001b[0m \u001b[0;34m\u001b[0m\u001b[0m\n\u001b[1;32m    452\u001b[0m     \u001b[0;32mif\u001b[0m \u001b[0mweights_path\u001b[0m\u001b[0;34m:\u001b[0m\u001b[0;34m\u001b[0m\u001b[0m\n\u001b[0;32m--> 453\u001b[0;31m         \u001b[0mnet\u001b[0m\u001b[0;34m.\u001b[0m\u001b[0mload_weights\u001b[0m\u001b[0;34m(\u001b[0m\u001b[0mweights_path\u001b[0m\u001b[0;34m,\u001b[0m \u001b[0mby_name\u001b[0m\u001b[0;34m=\u001b[0m\u001b[0mTrue\u001b[0m\u001b[0;34m)\u001b[0m\u001b[0;34m\u001b[0m\u001b[0m\n\u001b[0m\u001b[1;32m    454\u001b[0m \u001b[0;34m\u001b[0m\u001b[0m\n\u001b[1;32m    455\u001b[0m     \u001b[0;32mreturn\u001b[0m \u001b[0mnet\u001b[0m\u001b[0;34m\u001b[0m\u001b[0m\n",
      "\u001b[0;32m//anaconda/lib/python2.7/site-packages/keras/engine/topology.pyc\u001b[0m in \u001b[0;36mload_weights\u001b[0;34m(self, filepath, by_name)\u001b[0m\n\u001b[1;32m   2615\u001b[0m             \u001b[0mf\u001b[0m \u001b[0;34m=\u001b[0m \u001b[0mf\u001b[0m\u001b[0;34m[\u001b[0m\u001b[0;34m'model_weights'\u001b[0m\u001b[0;34m]\u001b[0m\u001b[0;34m\u001b[0m\u001b[0m\n\u001b[1;32m   2616\u001b[0m         \u001b[0;32mif\u001b[0m \u001b[0mby_name\u001b[0m\u001b[0;34m:\u001b[0m\u001b[0;34m\u001b[0m\u001b[0m\n\u001b[0;32m-> 2617\u001b[0;31m             \u001b[0mload_weights_from_hdf5_group_by_name\u001b[0m\u001b[0;34m(\u001b[0m\u001b[0mf\u001b[0m\u001b[0;34m,\u001b[0m \u001b[0mself\u001b[0m\u001b[0;34m.\u001b[0m\u001b[0mlayers\u001b[0m\u001b[0;34m)\u001b[0m\u001b[0;34m\u001b[0m\u001b[0m\n\u001b[0m\u001b[1;32m   2618\u001b[0m         \u001b[0;32melse\u001b[0m\u001b[0;34m:\u001b[0m\u001b[0;34m\u001b[0m\u001b[0m\n\u001b[1;32m   2619\u001b[0m             \u001b[0mload_weights_from_hdf5_group\u001b[0m\u001b[0;34m(\u001b[0m\u001b[0mf\u001b[0m\u001b[0;34m,\u001b[0m \u001b[0mself\u001b[0m\u001b[0;34m.\u001b[0m\u001b[0mlayers\u001b[0m\u001b[0;34m)\u001b[0m\u001b[0;34m\u001b[0m\u001b[0m\n",
      "\u001b[0;32m//anaconda/lib/python2.7/site-packages/keras/engine/topology.pyc\u001b[0m in \u001b[0;36mload_weights_from_hdf5_group_by_name\u001b[0;34m(f, layers)\u001b[0m\n\u001b[1;32m   3156\u001b[0m                 weight_value_tuples.append((symbolic_weights[i],\n\u001b[1;32m   3157\u001b[0m                                             weight_values[i]))\n\u001b[0;32m-> 3158\u001b[0;31m     \u001b[0mK\u001b[0m\u001b[0;34m.\u001b[0m\u001b[0mbatch_set_value\u001b[0m\u001b[0;34m(\u001b[0m\u001b[0mweight_value_tuples\u001b[0m\u001b[0;34m)\u001b[0m\u001b[0;34m\u001b[0m\u001b[0m\n\u001b[0m",
      "\u001b[0;32m//anaconda/lib/python2.7/site-packages/keras/backend/tensorflow_backend.pyc\u001b[0m in \u001b[0;36mbatch_set_value\u001b[0;34m(tuples)\u001b[0m\n\u001b[1;32m   2186\u001b[0m                 assign_placeholder = tf.placeholder(tf_dtype,\n\u001b[1;32m   2187\u001b[0m                                                     shape=value.shape)\n\u001b[0;32m-> 2188\u001b[0;31m                 \u001b[0massign_op\u001b[0m \u001b[0;34m=\u001b[0m \u001b[0mx\u001b[0m\u001b[0;34m.\u001b[0m\u001b[0massign\u001b[0m\u001b[0;34m(\u001b[0m\u001b[0massign_placeholder\u001b[0m\u001b[0;34m)\u001b[0m\u001b[0;34m\u001b[0m\u001b[0m\n\u001b[0m\u001b[1;32m   2189\u001b[0m                 \u001b[0mx\u001b[0m\u001b[0;34m.\u001b[0m\u001b[0m_assign_placeholder\u001b[0m \u001b[0;34m=\u001b[0m \u001b[0massign_placeholder\u001b[0m\u001b[0;34m\u001b[0m\u001b[0m\n\u001b[1;32m   2190\u001b[0m                 \u001b[0mx\u001b[0m\u001b[0;34m.\u001b[0m\u001b[0m_assign_op\u001b[0m \u001b[0;34m=\u001b[0m \u001b[0massign_op\u001b[0m\u001b[0;34m\u001b[0m\u001b[0m\n",
      "\u001b[0;32m//anaconda/lib/python2.7/site-packages/tensorflow/python/ops/variables.pyc\u001b[0m in \u001b[0;36massign\u001b[0;34m(self, value, use_locking)\u001b[0m\n\u001b[1;32m    510\u001b[0m       \u001b[0mthe\u001b[0m \u001b[0massignment\u001b[0m \u001b[0mhas\u001b[0m \u001b[0mcompleted\u001b[0m\u001b[0;34m.\u001b[0m\u001b[0;34m\u001b[0m\u001b[0m\n\u001b[1;32m    511\u001b[0m     \"\"\"\n\u001b[0;32m--> 512\u001b[0;31m     \u001b[0;32mreturn\u001b[0m \u001b[0mstate_ops\u001b[0m\u001b[0;34m.\u001b[0m\u001b[0massign\u001b[0m\u001b[0;34m(\u001b[0m\u001b[0mself\u001b[0m\u001b[0;34m.\u001b[0m\u001b[0m_variable\u001b[0m\u001b[0;34m,\u001b[0m \u001b[0mvalue\u001b[0m\u001b[0;34m,\u001b[0m \u001b[0muse_locking\u001b[0m\u001b[0;34m=\u001b[0m\u001b[0muse_locking\u001b[0m\u001b[0;34m)\u001b[0m\u001b[0;34m\u001b[0m\u001b[0m\n\u001b[0m\u001b[1;32m    513\u001b[0m \u001b[0;34m\u001b[0m\u001b[0m\n\u001b[1;32m    514\u001b[0m   \u001b[0;32mdef\u001b[0m \u001b[0massign_add\u001b[0m\u001b[0;34m(\u001b[0m\u001b[0mself\u001b[0m\u001b[0;34m,\u001b[0m \u001b[0mdelta\u001b[0m\u001b[0;34m,\u001b[0m \u001b[0muse_locking\u001b[0m\u001b[0;34m=\u001b[0m\u001b[0mFalse\u001b[0m\u001b[0;34m)\u001b[0m\u001b[0;34m:\u001b[0m\u001b[0;34m\u001b[0m\u001b[0m\n",
      "\u001b[0;32m//anaconda/lib/python2.7/site-packages/tensorflow/python/ops/state_ops.pyc\u001b[0m in \u001b[0;36massign\u001b[0;34m(ref, value, validate_shape, use_locking, name)\u001b[0m\n\u001b[1;32m    268\u001b[0m     return gen_state_ops.assign(\n\u001b[1;32m    269\u001b[0m         \u001b[0mref\u001b[0m\u001b[0;34m,\u001b[0m \u001b[0mvalue\u001b[0m\u001b[0;34m,\u001b[0m \u001b[0muse_locking\u001b[0m\u001b[0;34m=\u001b[0m\u001b[0muse_locking\u001b[0m\u001b[0;34m,\u001b[0m \u001b[0mname\u001b[0m\u001b[0;34m=\u001b[0m\u001b[0mname\u001b[0m\u001b[0;34m,\u001b[0m\u001b[0;34m\u001b[0m\u001b[0m\n\u001b[0;32m--> 270\u001b[0;31m         validate_shape=validate_shape)\n\u001b[0m\u001b[1;32m    271\u001b[0m   \u001b[0;32mreturn\u001b[0m \u001b[0mref\u001b[0m\u001b[0;34m.\u001b[0m\u001b[0massign\u001b[0m\u001b[0;34m(\u001b[0m\u001b[0mvalue\u001b[0m\u001b[0;34m,\u001b[0m \u001b[0mname\u001b[0m\u001b[0;34m=\u001b[0m\u001b[0mname\u001b[0m\u001b[0;34m)\u001b[0m\u001b[0;34m\u001b[0m\u001b[0m\n",
      "\u001b[0;32m//anaconda/lib/python2.7/site-packages/tensorflow/python/ops/gen_state_ops.pyc\u001b[0m in \u001b[0;36massign\u001b[0;34m(ref, value, validate_shape, use_locking, name)\u001b[0m\n\u001b[1;32m     45\u001b[0m   result = _op_def_lib.apply_op(\"Assign\", ref=ref, value=value,\n\u001b[1;32m     46\u001b[0m                                 \u001b[0mvalidate_shape\u001b[0m\u001b[0;34m=\u001b[0m\u001b[0mvalidate_shape\u001b[0m\u001b[0;34m,\u001b[0m\u001b[0;34m\u001b[0m\u001b[0m\n\u001b[0;32m---> 47\u001b[0;31m                                 use_locking=use_locking, name=name)\n\u001b[0m\u001b[1;32m     48\u001b[0m   \u001b[0;32mreturn\u001b[0m \u001b[0mresult\u001b[0m\u001b[0;34m\u001b[0m\u001b[0m\n\u001b[1;32m     49\u001b[0m \u001b[0;34m\u001b[0m\u001b[0m\n",
      "\u001b[0;32m//anaconda/lib/python2.7/site-packages/tensorflow/python/framework/op_def_library.pyc\u001b[0m in \u001b[0;36mapply_op\u001b[0;34m(self, op_type_name, name, **keywords)\u001b[0m\n\u001b[1;32m    766\u001b[0m         op = g.create_op(op_type_name, inputs, output_types, name=scope,\n\u001b[1;32m    767\u001b[0m                          \u001b[0minput_types\u001b[0m\u001b[0;34m=\u001b[0m\u001b[0minput_types\u001b[0m\u001b[0;34m,\u001b[0m \u001b[0mattrs\u001b[0m\u001b[0;34m=\u001b[0m\u001b[0mattr_protos\u001b[0m\u001b[0;34m,\u001b[0m\u001b[0;34m\u001b[0m\u001b[0m\n\u001b[0;32m--> 768\u001b[0;31m                          op_def=op_def)\n\u001b[0m\u001b[1;32m    769\u001b[0m         \u001b[0;32mif\u001b[0m \u001b[0moutput_structure\u001b[0m\u001b[0;34m:\u001b[0m\u001b[0;34m\u001b[0m\u001b[0m\n\u001b[1;32m    770\u001b[0m           \u001b[0moutputs\u001b[0m \u001b[0;34m=\u001b[0m \u001b[0mop\u001b[0m\u001b[0;34m.\u001b[0m\u001b[0moutputs\u001b[0m\u001b[0;34m\u001b[0m\u001b[0m\n",
      "\u001b[0;32m//anaconda/lib/python2.7/site-packages/tensorflow/python/framework/ops.pyc\u001b[0m in \u001b[0;36mcreate_op\u001b[0;34m(self, op_type, inputs, dtypes, input_types, name, attrs, op_def, compute_shapes, compute_device)\u001b[0m\n\u001b[1;32m   2336\u001b[0m                     original_op=self._default_original_op, op_def=op_def)\n\u001b[1;32m   2337\u001b[0m     \u001b[0;32mif\u001b[0m \u001b[0mcompute_shapes\u001b[0m\u001b[0;34m:\u001b[0m\u001b[0;34m\u001b[0m\u001b[0m\n\u001b[0;32m-> 2338\u001b[0;31m       \u001b[0mset_shapes_for_outputs\u001b[0m\u001b[0;34m(\u001b[0m\u001b[0mret\u001b[0m\u001b[0;34m)\u001b[0m\u001b[0;34m\u001b[0m\u001b[0m\n\u001b[0m\u001b[1;32m   2339\u001b[0m     \u001b[0mself\u001b[0m\u001b[0;34m.\u001b[0m\u001b[0m_add_op\u001b[0m\u001b[0;34m(\u001b[0m\u001b[0mret\u001b[0m\u001b[0;34m)\u001b[0m\u001b[0;34m\u001b[0m\u001b[0m\n\u001b[1;32m   2340\u001b[0m     \u001b[0mself\u001b[0m\u001b[0;34m.\u001b[0m\u001b[0m_record_op_seen_by_control_dependencies\u001b[0m\u001b[0;34m(\u001b[0m\u001b[0mret\u001b[0m\u001b[0;34m)\u001b[0m\u001b[0;34m\u001b[0m\u001b[0m\n",
      "\u001b[0;32m//anaconda/lib/python2.7/site-packages/tensorflow/python/framework/ops.pyc\u001b[0m in \u001b[0;36mset_shapes_for_outputs\u001b[0;34m(op)\u001b[0m\n\u001b[1;32m   1717\u001b[0m       \u001b[0mshape_func\u001b[0m \u001b[0;34m=\u001b[0m \u001b[0m_call_cpp_shape_fn_and_require_op\u001b[0m\u001b[0;34m\u001b[0m\u001b[0m\n\u001b[1;32m   1718\u001b[0m \u001b[0;34m\u001b[0m\u001b[0m\n\u001b[0;32m-> 1719\u001b[0;31m   \u001b[0mshapes\u001b[0m \u001b[0;34m=\u001b[0m \u001b[0mshape_func\u001b[0m\u001b[0;34m(\u001b[0m\u001b[0mop\u001b[0m\u001b[0;34m)\u001b[0m\u001b[0;34m\u001b[0m\u001b[0m\n\u001b[0m\u001b[1;32m   1720\u001b[0m   \u001b[0;32mif\u001b[0m \u001b[0mshapes\u001b[0m \u001b[0;32mis\u001b[0m \u001b[0mNone\u001b[0m\u001b[0;34m:\u001b[0m\u001b[0;34m\u001b[0m\u001b[0m\n\u001b[1;32m   1721\u001b[0m     raise RuntimeError(\n",
      "\u001b[0;32m//anaconda/lib/python2.7/site-packages/tensorflow/python/framework/ops.pyc\u001b[0m in \u001b[0;36mcall_with_requiring\u001b[0;34m(op)\u001b[0m\n\u001b[1;32m   1667\u001b[0m \u001b[0;34m\u001b[0m\u001b[0m\n\u001b[1;32m   1668\u001b[0m   \u001b[0;32mdef\u001b[0m \u001b[0mcall_with_requiring\u001b[0m\u001b[0;34m(\u001b[0m\u001b[0mop\u001b[0m\u001b[0;34m)\u001b[0m\u001b[0;34m:\u001b[0m\u001b[0;34m\u001b[0m\u001b[0m\n\u001b[0;32m-> 1669\u001b[0;31m     \u001b[0;32mreturn\u001b[0m \u001b[0mcall_cpp_shape_fn\u001b[0m\u001b[0;34m(\u001b[0m\u001b[0mop\u001b[0m\u001b[0;34m,\u001b[0m \u001b[0mrequire_shape_fn\u001b[0m\u001b[0;34m=\u001b[0m\u001b[0mTrue\u001b[0m\u001b[0;34m)\u001b[0m\u001b[0;34m\u001b[0m\u001b[0m\n\u001b[0m\u001b[1;32m   1670\u001b[0m \u001b[0;34m\u001b[0m\u001b[0m\n\u001b[1;32m   1671\u001b[0m   \u001b[0m_call_cpp_shape_fn_and_require_op\u001b[0m \u001b[0;34m=\u001b[0m \u001b[0mcall_with_requiring\u001b[0m\u001b[0;34m\u001b[0m\u001b[0m\n",
      "\u001b[0;32m//anaconda/lib/python2.7/site-packages/tensorflow/python/framework/common_shapes.pyc\u001b[0m in \u001b[0;36mcall_cpp_shape_fn\u001b[0;34m(op, input_tensors_needed, input_tensors_as_shapes_needed, debug_python_shape_fn, require_shape_fn)\u001b[0m\n\u001b[1;32m    608\u001b[0m     res = _call_cpp_shape_fn_impl(op, input_tensors_needed,\n\u001b[1;32m    609\u001b[0m                                   \u001b[0minput_tensors_as_shapes_needed\u001b[0m\u001b[0;34m,\u001b[0m\u001b[0;34m\u001b[0m\u001b[0m\n\u001b[0;32m--> 610\u001b[0;31m                                   debug_python_shape_fn, require_shape_fn)\n\u001b[0m\u001b[1;32m    611\u001b[0m     \u001b[0;32mif\u001b[0m \u001b[0;32mnot\u001b[0m \u001b[0misinstance\u001b[0m\u001b[0;34m(\u001b[0m\u001b[0mres\u001b[0m\u001b[0;34m,\u001b[0m \u001b[0mdict\u001b[0m\u001b[0;34m)\u001b[0m\u001b[0;34m:\u001b[0m\u001b[0;34m\u001b[0m\u001b[0m\n\u001b[1;32m    612\u001b[0m       \u001b[0;31m# Handles the case where _call_cpp_shape_fn_impl calls unknown_shape(op).\u001b[0m\u001b[0;34m\u001b[0m\u001b[0;34m\u001b[0m\u001b[0m\n",
      "\u001b[0;32m//anaconda/lib/python2.7/site-packages/tensorflow/python/framework/common_shapes.pyc\u001b[0m in \u001b[0;36m_call_cpp_shape_fn_impl\u001b[0;34m(op, input_tensors_needed, input_tensors_as_shapes_needed, debug_python_shape_fn, require_shape_fn)\u001b[0m\n\u001b[1;32m    674\u001b[0m       \u001b[0mmissing_shape_fn\u001b[0m \u001b[0;34m=\u001b[0m \u001b[0mTrue\u001b[0m\u001b[0;34m\u001b[0m\u001b[0m\n\u001b[1;32m    675\u001b[0m     \u001b[0;32melse\u001b[0m\u001b[0;34m:\u001b[0m\u001b[0;34m\u001b[0m\u001b[0m\n\u001b[0;32m--> 676\u001b[0;31m       \u001b[0;32mraise\u001b[0m \u001b[0mValueError\u001b[0m\u001b[0;34m(\u001b[0m\u001b[0merr\u001b[0m\u001b[0;34m.\u001b[0m\u001b[0mmessage\u001b[0m\u001b[0;34m)\u001b[0m\u001b[0;34m\u001b[0m\u001b[0m\n\u001b[0m\u001b[1;32m    677\u001b[0m \u001b[0;34m\u001b[0m\u001b[0m\n\u001b[1;32m    678\u001b[0m   \u001b[0;32mif\u001b[0m \u001b[0mmissing_shape_fn\u001b[0m\u001b[0;34m:\u001b[0m\u001b[0;34m\u001b[0m\u001b[0m\n",
      "\u001b[0;31mValueError\u001b[0m: Dimension 2 in both shapes must be equal, but are 3 and 64 for 'Assign' (op: 'Assign') with input shapes: [7,7,3,64], [7,7,64,3]."
     ]
    }
   ],
   "source": [
    "model = deephand(weights_path=\"googlenet_weights.h5\")\n",
    "model.compile(loss='categorical_crossentropy',optimizer='adam',metrics=['accuracy'], loss_weights=[0.3, 0.3, 1.])\n",
    "history = model.fit(X, [y]*3, epochs=20, batch_size = 4, validation_split=0.2, verbose=0)"
   ]
  },
  {
   "cell_type": "code",
   "execution_count": 6,
   "metadata": {
    "collapsed": false
   },
   "outputs": [
    {
     "name": "stdout",
     "output_type": "stream",
     "text": [
      "Keys: [u'activation_1', u'activation_2', u'conv1', u'conv2', u'dropout_1', u'dropout_2', u'dropout_3', u'flatten_1', u'flatten_2', u'flatten_3', u'inception_3a', u'inception_3b', u'inception_4a', u'inception_4b', u'inception_4b_output', u'inception_4c', u'inception_4d', u'inception_4e', u'inception_5a', u'inception_5b', u'input_1', u'loss1', u'loss2', u'loss3', u'pool1', u'pool2', u'pool3', u'pool4', u'pool5', u'poolhelper_1', u'poolhelper_2', u'poolhelper_3', u'poolhelper_4', u'prob', u'zeropadding2d_1', u'zeropadding2d_2', u'zeropadding2d_3', u'zeropadding2d_4']\n"
     ]
    }
   ],
   "source": [
    "import h5py\n",
    "filename = 'googlenet_weights.h5'\n",
    "f = h5py.File(filename, 'r')\n",
    "\n",
    "# List all groups\n",
    "print(\"Keys: %s\" % f.keys())\n",
    "a_group_key = f.keys()[0]\n",
    "\n",
    "# Get the data\n",
    "data = list(f[a_group_key])"
   ]
  },
  {
   "cell_type": "code",
   "execution_count": 29,
   "metadata": {
    "collapsed": false
   },
   "outputs": [
    {
     "data": {
      "text/plain": [
       "numpy.ndarray"
      ]
     },
     "execution_count": 29,
     "metadata": {},
     "output_type": "execute_result"
    }
   ],
   "source": [
    "type(f['conv1']['7x7_s2']['conv1']['7x7_s2_W'][:])"
   ]
  },
  {
   "cell_type": "code",
   "execution_count": 41,
   "metadata": {
    "collapsed": false
   },
   "outputs": [
    {
     "data": {
      "text/plain": [
       "h5py._hl.files.File"
      ]
     },
     "execution_count": 41,
     "metadata": {},
     "output_type": "execute_result"
    }
   ],
   "source": [
    "type(f)"
   ]
  },
  {
   "cell_type": "code",
   "execution_count": 50,
   "metadata": {
    "collapsed": false
   },
   "outputs": [
    {
     "data": {
      "text/plain": [
       "(64,)"
      ]
     },
     "execution_count": 50,
     "metadata": {},
     "output_type": "execute_result"
    }
   ],
   "source": [
    "f['conv1']['7x7_s2']['conv1']['7x7_s2_b'].shape"
   ]
  },
  {
   "cell_type": "code",
   "execution_count": 34,
   "metadata": {
    "collapsed": false
   },
   "outputs": [
    {
     "data": {
      "text/plain": [
       "(256, 528, 1, 1)"
      ]
     },
     "execution_count": 34,
     "metadata": {},
     "output_type": "execute_result"
    }
   ],
   "source": [
    "f['inception_4e']['1x1']['inception_4e']['1x1_W'].shape"
   ]
  },
  {
   "cell_type": "code",
   "execution_count": 58,
   "metadata": {
    "collapsed": false
   },
   "outputs": [
    {
     "data": {
      "text/plain": [
       "[u'classifier_W', u'classifier_b']"
      ]
     },
     "execution_count": 58,
     "metadata": {},
     "output_type": "execute_result"
    }
   ],
   "source": [
    "f['loss1']['classifier'][\"loss1\"].keys()"
   ]
  },
  {
   "cell_type": "code",
   "execution_count": 59,
   "metadata": {
    "collapsed": false
   },
   "outputs": [
    {
     "data": {
      "text/plain": [
       "[u'ave_pool', u'classifier', u'conv', u'fc']"
      ]
     },
     "execution_count": 59,
     "metadata": {},
     "output_type": "execute_result"
    }
   ],
   "source": [
    "f['loss1'].keys()"
   ]
  },
  {
   "cell_type": "code",
   "execution_count": 36,
   "metadata": {
    "collapsed": true
   },
   "outputs": [],
   "source": [
    "import numpy as np"
   ]
  },
  {
   "cell_type": "code",
   "execution_count": 38,
   "metadata": {
    "collapsed": false
   },
   "outputs": [],
   "source": [
    "weights_handshape = np.load('deephand.npy').item()"
   ]
  },
  {
   "cell_type": "code",
   "execution_count": 56,
   "metadata": {
    "collapsed": true
   },
   "outputs": [
    {
     "data": {
      "text/plain": [
       "[u'inception_4e_3x3',\n",
       " u'inception_4c_5x5',\n",
       " u'inception_5b_5x5',\n",
       " u'inception_4d_5x5',\n",
       " u'inception_4c_3x3_reduce',\n",
       " u'inception_3a_1x1',\n",
       " u'inception_5a_pool_proj',\n",
       " u'inception_3b_5x5_reduce',\n",
       " u'inception_3b_5x5',\n",
       " u'inception_4b_3x3_reduce',\n",
       " u'inception_4e_5x5',\n",
       " u'inception_3a_3x3_reduce',\n",
       " u'inception_4c_1x1',\n",
       " u'inception_4a_3x3',\n",
       " u'inception_4d_pool_proj',\n",
       " u'inception_3b_3x3',\n",
       " u'inception_5a_5x5_reduce',\n",
       " u'inception_4d_3x3',\n",
       " u'inception_4b_3x3',\n",
       " u'inception_3a_5x5_reduce',\n",
       " u'inception_3b_pool_proj',\n",
       " u'inception_5b_pool_proj',\n",
       " u'inception_4a_5x5_reduce',\n",
       " u'inception_4e_5x5_reduce',\n",
       " u'inception_4b_1x1',\n",
       " u'inception_5b_1x1',\n",
       " u'inception_4b_pool_proj',\n",
       " u'conv2_3x3',\n",
       " u'inception_4c_pool_proj',\n",
       " u'inception_3b_1x1',\n",
       " u'inception_4c_5x5_reduce',\n",
       " u'inception_4d_5x5_reduce',\n",
       " u'inception_4a_5x5',\n",
       " u'inception_5a_3x3_reduce',\n",
       " u'inception_4d_1x1',\n",
       " u'inception_5b_3x3',\n",
       " u'conv1_7x7_s2',\n",
       " u'inception_3b_3x3_reduce',\n",
       " u'inception_4b_5x5_reduce',\n",
       " u'inception_4e_1x1',\n",
       " u'inception_4d_3x3_reduce',\n",
       " u'inception_4e_3x3_reduce',\n",
       " u'inception_5a_3x3',\n",
       " u'conv2_3x3_reduce',\n",
       " u'inception_4e_pool_proj',\n",
       " u'inception_3a_3x3',\n",
       " u'inception_4a_pool_proj',\n",
       " u'inception_3a_pool_proj',\n",
       " u'inception_5b_5x5_reduce',\n",
       " u'loss3_SLclassifier',\n",
       " u'inception_3a_5x5',\n",
       " u'inception_4c_3x3',\n",
       " u'inception_5a_1x1',\n",
       " u'inception_4a_1x1',\n",
       " u'inception_5b_3x3_reduce',\n",
       " u'inception_5a_5x5',\n",
       " u'inception_4a_3x3_reduce',\n",
       " u'inception_4b_5x5']"
      ]
     },
     "execution_count": 56,
     "metadata": {},
     "output_type": "execute_result"
    }
   ],
   "source": [
    "weights_handshape.keys()"
   ]
  },
  {
   "cell_type": "code",
   "execution_count": 60,
   "metadata": {
    "collapsed": false,
    "scrolled": true
   },
   "outputs": [],
   "source": [
    "# Write data to HDF5\n",
    "data_file = h5py.File('weights_handshape.hdf5', 'w')\n",
    "for keys, values in weights_handshape.iteritems():\n",
    "    if 'inception' in keys:\n",
    "        name1 = keys[:12]\n",
    "        name2 = keys[13:]  \n",
    "    elif 'conv' in keys:\n",
    "        name1 = keys[:5]\n",
    "        name2 = keys[6:]\n",
    "    elif 'loss' in keys:\n",
    "        name1 = keys[:5]\n",
    "        name2 = keys[8:]\n",
    "\n",
    "    path = name1+\"/\"+name2+\"/\"+name1+\"/\"+name2\n",
    "    data_file.create_dataset(path+\"_W\", data=values['weights'])\n",
    "    data_file.create_dataset(path+\"_b\", data=values['biases'])     \n",
    "data_file.close()       "
   ]
  },
  {
   "cell_type": "code",
   "execution_count": 43,
   "metadata": {
    "collapsed": false
   },
   "outputs": [
    {
     "data": {
      "text/plain": [
       "['weights', 'biases']"
      ]
     },
     "execution_count": 43,
     "metadata": {},
     "output_type": "execute_result"
    }
   ],
   "source": [
    "weights_handshape['conv2_3x3'].keys()"
   ]
  },
  {
   "cell_type": "code",
   "execution_count": null,
   "metadata": {
    "collapsed": true
   },
   "outputs": [],
   "source": []
  },
  {
   "cell_type": "code",
   "execution_count": null,
   "metadata": {
    "collapsed": true
   },
   "outputs": [],
   "source": []
  },
  {
   "cell_type": "code",
   "execution_count": null,
   "metadata": {
    "collapsed": true
   },
   "outputs": [],
   "source": []
  },
  {
   "cell_type": "code",
   "execution_count": null,
   "metadata": {
    "collapsed": true
   },
   "outputs": [],
   "source": []
  },
  {
   "cell_type": "code",
   "execution_count": null,
   "metadata": {
    "collapsed": true
   },
   "outputs": [],
   "source": []
  },
  {
   "cell_type": "code",
   "execution_count": null,
   "metadata": {
    "collapsed": true
   },
   "outputs": [],
   "source": []
  },
  {
   "cell_type": "code",
   "execution_count": null,
   "metadata": {
    "collapsed": true
   },
   "outputs": [],
   "source": []
  },
  {
   "cell_type": "code",
   "execution_count": null,
   "metadata": {
    "collapsed": false
   },
   "outputs": [],
   "source": [
    "for a in f['conv1'].values():\n",
    "    print a.require_dataset()"
   ]
  },
  {
   "cell_type": "code",
   "execution_count": null,
   "metadata": {
    "collapsed": false
   },
   "outputs": [],
   "source": [
    "np.array(f['conv1'].values()[0])"
   ]
  },
  {
   "cell_type": "code",
   "execution_count": null,
   "metadata": {
    "collapsed": false
   },
   "outputs": [],
   "source": [
    "for a in f[\"inception_4a\"]\n"
   ]
  },
  {
   "cell_type": "code",
   "execution_count": null,
   "metadata": {
    "collapsed": true
   },
   "outputs": [],
   "source": []
  }
 ],
 "metadata": {
  "anaconda-cloud": {},
  "kernelspec": {
   "display_name": "Python [default]",
   "language": "python",
   "name": "python2"
  },
  "language_info": {
   "codemirror_mode": {
    "name": "ipython",
    "version": 2
   },
   "file_extension": ".py",
   "mimetype": "text/x-python",
   "name": "python",
   "nbconvert_exporter": "python",
   "pygments_lexer": "ipython2",
   "version": "2.7.12"
  }
 },
 "nbformat": 4,
 "nbformat_minor": 0
}
